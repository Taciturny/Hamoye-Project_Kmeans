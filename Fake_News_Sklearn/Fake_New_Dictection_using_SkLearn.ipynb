{
 "cells": [
  {
   "cell_type": "markdown",
   "id": "5cadbe10",
   "metadata": {},
   "source": [
    "# Fake News Detection \n",
    "\n",
    "Dataset is gotten from Kaggle "
   ]
  },
  {
   "cell_type": "markdown",
   "id": "bc4f99c7",
   "metadata": {},
   "source": [
    "### 1. importing libraries"
   ]
  },
  {
   "cell_type": "code",
   "execution_count": 1,
   "id": "a1b7f234",
   "metadata": {},
   "outputs": [],
   "source": [
    "import pandas as pd\n",
    "import numpy as np\n",
    "\n",
    "# Visualiztion libraries\n",
    "import matplotlib.pyplot as plt\n",
    "import seaborn as sns\n",
    "%matplotlib inline\n",
    "\n",
    "# NLP libraries to clean the text data\n",
    "import nltk\n",
    "from nltk.corpus import stopwords\n",
    "from nltk.stem import WordNetLemmatizer\n",
    "import re\n",
    "\n",
    "# Vectorization technique TF-IDF\n",
    "from sklearn.feature_extraction.text import TfidfVectorizer\n",
    "\n",
    "# For Splitting the dataset\n",
    "from sklearn.model_selection import train_test_split\n",
    "\n",
    "# Model libraries\n",
    "from sklearn.linear_model import LogisticRegression\n",
    "from sklearn.svm import SVC\n",
    "from sklearn.ensemble import RandomForestClassifier\n",
    "from sklearn.tree import DecisionTreeClassifier\n",
    "from sklearn.ensemble import GradientBoostingClassifier\n",
    "from sklearn.neighbors import KNeighborsClassifier\n",
    "from sklearn.linear_model import RidgeClassifier\n",
    "\n",
    "# For hyperparameter Tunning\n",
    "from sklearn.model_selection import GridSearchCV\n",
    "\n",
    "\n",
    "#Accuracy measuring library\n",
    "from sklearn.metrics import accuracy_score, classification_report \n",
    "from sklearn.metrics import confusion_matrix, ConfusionMatrixDisplay\n",
    "\n",
    "import warnings\n",
    "warnings.filterwarnings(\"ignore\")"
   ]
  },
  {
   "cell_type": "markdown",
   "id": "b0c97820",
   "metadata": {},
   "source": [
    "### 2. Loading the data\n",
    "\n",
    "\n"
   ]
  },
  {
   "cell_type": "code",
   "execution_count": 2,
   "id": "699228ba",
   "metadata": {},
   "outputs": [],
   "source": [
    "file_path = r'C:\\Users\\HP 1030 G2\\Documents\\train.csv'\n",
    "data = pd.read_csv(file_path)"
   ]
  },
  {
   "cell_type": "code",
   "execution_count": 3,
   "id": "2c051a53",
   "metadata": {},
   "outputs": [
    {
     "data": {
      "text/plain": [
       "(20800, 5)"
      ]
     },
     "execution_count": 3,
     "metadata": {},
     "output_type": "execute_result"
    }
   ],
   "source": [
    "#Returns the number of rows and columns present in the dataset\n",
    "\n",
    "data.shape "
   ]
  },
  {
   "cell_type": "code",
   "execution_count": 4,
   "id": "5e595722",
   "metadata": {},
   "outputs": [
    {
     "data": {
      "text/html": [
       "<div>\n",
       "<style scoped>\n",
       "    .dataframe tbody tr th:only-of-type {\n",
       "        vertical-align: middle;\n",
       "    }\n",
       "\n",
       "    .dataframe tbody tr th {\n",
       "        vertical-align: top;\n",
       "    }\n",
       "\n",
       "    .dataframe thead th {\n",
       "        text-align: right;\n",
       "    }\n",
       "</style>\n",
       "<table border=\"1\" class=\"dataframe\">\n",
       "  <thead>\n",
       "    <tr style=\"text-align: right;\">\n",
       "      <th></th>\n",
       "      <th>id</th>\n",
       "      <th>title</th>\n",
       "      <th>author</th>\n",
       "      <th>text</th>\n",
       "      <th>label</th>\n",
       "    </tr>\n",
       "  </thead>\n",
       "  <tbody>\n",
       "    <tr>\n",
       "      <th>0</th>\n",
       "      <td>0</td>\n",
       "      <td>House Dem Aide: We Didn’t Even See Comey’s Let...</td>\n",
       "      <td>Darrell Lucus</td>\n",
       "      <td>House Dem Aide: We Didn’t Even See Comey’s Let...</td>\n",
       "      <td>1</td>\n",
       "    </tr>\n",
       "    <tr>\n",
       "      <th>1</th>\n",
       "      <td>1</td>\n",
       "      <td>FLYNN: Hillary Clinton, Big Woman on Campus - ...</td>\n",
       "      <td>Daniel J. Flynn</td>\n",
       "      <td>Ever get the feeling your life circles the rou...</td>\n",
       "      <td>0</td>\n",
       "    </tr>\n",
       "    <tr>\n",
       "      <th>2</th>\n",
       "      <td>2</td>\n",
       "      <td>Why the Truth Might Get You Fired</td>\n",
       "      <td>Consortiumnews.com</td>\n",
       "      <td>Why the Truth Might Get You Fired October 29, ...</td>\n",
       "      <td>1</td>\n",
       "    </tr>\n",
       "    <tr>\n",
       "      <th>3</th>\n",
       "      <td>3</td>\n",
       "      <td>15 Civilians Killed In Single US Airstrike Hav...</td>\n",
       "      <td>Jessica Purkiss</td>\n",
       "      <td>Videos 15 Civilians Killed In Single US Airstr...</td>\n",
       "      <td>1</td>\n",
       "    </tr>\n",
       "    <tr>\n",
       "      <th>4</th>\n",
       "      <td>4</td>\n",
       "      <td>Iranian woman jailed for fictional unpublished...</td>\n",
       "      <td>Howard Portnoy</td>\n",
       "      <td>Print \\nAn Iranian woman has been sentenced to...</td>\n",
       "      <td>1</td>\n",
       "    </tr>\n",
       "  </tbody>\n",
       "</table>\n",
       "</div>"
      ],
      "text/plain": [
       "   id                                              title              author  \\\n",
       "0   0  House Dem Aide: We Didn’t Even See Comey’s Let...       Darrell Lucus   \n",
       "1   1  FLYNN: Hillary Clinton, Big Woman on Campus - ...     Daniel J. Flynn   \n",
       "2   2                  Why the Truth Might Get You Fired  Consortiumnews.com   \n",
       "3   3  15 Civilians Killed In Single US Airstrike Hav...     Jessica Purkiss   \n",
       "4   4  Iranian woman jailed for fictional unpublished...      Howard Portnoy   \n",
       "\n",
       "                                                text  label  \n",
       "0  House Dem Aide: We Didn’t Even See Comey’s Let...      1  \n",
       "1  Ever get the feeling your life circles the rou...      0  \n",
       "2  Why the Truth Might Get You Fired October 29, ...      1  \n",
       "3  Videos 15 Civilians Killed In Single US Airstr...      1  \n",
       "4  Print \\nAn Iranian woman has been sentenced to...      1  "
      ]
     },
     "execution_count": 4,
     "metadata": {},
     "output_type": "execute_result"
    }
   ],
   "source": [
    "# Returns the first 5 rows of the dataset\n",
    "data.head()"
   ]
  },
  {
   "cell_type": "code",
   "execution_count": 5,
   "id": "d861e3ec",
   "metadata": {},
   "outputs": [
    {
     "data": {
      "text/plain": [
       "Index(['id', 'title', 'author', 'text', 'label'], dtype='object')"
      ]
     },
     "execution_count": 5,
     "metadata": {},
     "output_type": "execute_result"
    }
   ],
   "source": [
    "# Returns the column headings\n",
    "data.columns "
   ]
  },
  {
   "cell_type": "code",
   "execution_count": 6,
   "id": "4b42f02d",
   "metadata": {},
   "outputs": [
    {
     "data": {
      "text/plain": [
       "id           0\n",
       "title      558\n",
       "author    1957\n",
       "text        39\n",
       "label        0\n",
       "dtype: int64"
      ]
     },
     "execution_count": 6,
     "metadata": {},
     "output_type": "execute_result"
    }
   ],
   "source": [
    "#To check the null values in the dataset, if there're any\n",
    "data.isnull().sum() "
   ]
  },
  {
   "cell_type": "markdown",
   "id": "aa239d53",
   "metadata": {},
   "source": [
    "### 3. Data-Preprocessing\n",
    "For further analysis, Data cleaning is required. In this Notebook, I will clean data in three stages:\n",
    "\n",
    "1. Removing the Null values\n",
    "2. Drop features that are not needed\n",
    "3. Text Processing\n"
   ]
  },
  {
   "cell_type": "code",
   "execution_count": 7,
   "id": "14046a7a",
   "metadata": {},
   "outputs": [],
   "source": [
    "df_ = data.copy() #Creating a copy of my data, I will be working on this Dataframe"
   ]
  },
  {
   "cell_type": "markdown",
   "id": "133d343c",
   "metadata": {},
   "source": [
    "### 3.1. Removing the Null Values\n",
    "\n",
    "As text field has some empty fields, it can be handled in two ways:\n",
    "\n",
    "1. Drop the 39 rows\n",
    "2. Replace the null value with a dummy string\n",
    "\n",
    "I'll go with the second option because, while dropping 39 rows would have no effect on accuracy as it is such a small portion of our large dataset, it's never a good idea.\n",
    "\n",
    "I'm going to replace the Null(Nan) values in the `text` field with an empty `string (\")`."
   ]
  },
  {
   "cell_type": "code",
   "execution_count": 8,
   "id": "c5994e76",
   "metadata": {},
   "outputs": [],
   "source": [
    "df_['text'] = df_['text'].fillna('')   # As text is empty, just filled with an empty space"
   ]
  },
  {
   "cell_type": "code",
   "execution_count": 9,
   "id": "2a329016",
   "metadata": {},
   "outputs": [
    {
     "data": {
      "text/plain": [
       "id           0\n",
       "title      558\n",
       "author    1957\n",
       "text         0\n",
       "label        0\n",
       "dtype: int64"
      ]
     },
     "execution_count": 9,
     "metadata": {},
     "output_type": "execute_result"
    }
   ],
   "source": [
    "df_.isnull().sum()  # No null values found in the text field"
   ]
  },
  {
   "cell_type": "markdown",
   "id": "1f4e6916",
   "metadata": {},
   "source": [
    "### 3.2. Drop features that are not needed\n"
   ]
  },
  {
   "cell_type": "code",
   "execution_count": 10,
   "id": "f05fe762",
   "metadata": {},
   "outputs": [],
   "source": [
    "features_dropped = ['author','title','id']\n",
    "df = df_.drop(features_dropped, axis =1)"
   ]
  },
  {
   "cell_type": "code",
   "execution_count": 11,
   "id": "e0ccc920",
   "metadata": {},
   "outputs": [
    {
     "data": {
      "text/plain": [
       "Index(['text', 'label'], dtype='object')"
      ]
     },
     "execution_count": 11,
     "metadata": {},
     "output_type": "execute_result"
    }
   ],
   "source": [
    "df.columns # Returns the needed column headings"
   ]
  },
  {
   "cell_type": "markdown",
   "id": "07c85846",
   "metadata": {},
   "source": [
    "### 3.4. Text Processing\n",
    "\n",
    "1. Remove symbols `(',','-',...etc)`\n",
    "2. Remove stop words\n",
    "3. lemmatization"
   ]
  },
  {
   "cell_type": "code",
   "execution_count": 12,
   "id": "b8c1bc5a",
   "metadata": {},
   "outputs": [
    {
     "name": "stderr",
     "output_type": "stream",
     "text": [
      "[nltk_data] Downloading package stopwords to C:\\Users\\HP 1030\n",
      "[nltk_data]     G2\\AppData\\Roaming\\nltk_data...\n",
      "[nltk_data]   Package stopwords is already up-to-date!\n",
      "[nltk_data] Downloading package wordnet to C:\\Users\\HP 1030\n",
      "[nltk_data]     G2\\AppData\\Roaming\\nltk_data...\n",
      "[nltk_data]   Package wordnet is already up-to-date!\n"
     ]
    }
   ],
   "source": [
    "# Defining stop_words and lemmatizer\n",
    "\n",
    "nltk.download('stopwords')\n",
    "nltk.download('wordnet')\n",
    "\n",
    "stop_words = set(stopwords.words(\"english\"))\n",
    "\n",
    "lemmatizer = WordNetLemmatizer()\n",
    "\n",
    "# Defining clean_text function\n",
    "def clean_text(text):    \n",
    "    \n",
    "    # Removing symbols (',','-',...etc) leaving letter and readable numeric values\n",
    "    text = re.sub(r'[^A-Za-z0-9]+',' ',text)\n",
    "    \n",
    "    # converting all text to lower case\n",
    "    text = text.lower()           \n",
    "    \n",
    "    # spliting and returning all words to their dictionary form or root form using list comprehension\n",
    "    text = [lemmatizer.lemmatize(token) for token in text.split(\" \")]   # returns words dictionary meaning \n",
    "    text = [lemmatizer.lemmatize(token) for token in text]   # splits and single word into smaller piece\n",
    "    \n",
    "    # eliminating unimportant words like ('a','an','the') for model to focus on the most important words\n",
    "    text = [word for word in text if not word in stop_words] \n",
    "    \n",
    "    # to separate each words in text with whitespace\n",
    "    text = \" \".join(text)    \n",
    "    return text"
   ]
  },
  {
   "cell_type": "code",
   "execution_count": 13,
   "id": "a2e680ac",
   "metadata": {},
   "outputs": [
    {
     "name": "stdout",
     "output_type": "stream",
     "text": [
      "Wall time: 3min 5s\n"
     ]
    }
   ],
   "source": [
    "%%time\n",
    "#Creating new column for processed it takes about 2-3mins for complete excution\n",
    "df['text'] = df.text.apply(lambda x: clean_text(x))"
   ]
  },
  {
   "cell_type": "code",
   "execution_count": 14,
   "id": "72058e8e",
   "metadata": {},
   "outputs": [
    {
     "data": {
      "text/html": [
       "<div>\n",
       "<style scoped>\n",
       "    .dataframe tbody tr th:only-of-type {\n",
       "        vertical-align: middle;\n",
       "    }\n",
       "\n",
       "    .dataframe tbody tr th {\n",
       "        vertical-align: top;\n",
       "    }\n",
       "\n",
       "    .dataframe thead th {\n",
       "        text-align: right;\n",
       "    }\n",
       "</style>\n",
       "<table border=\"1\" class=\"dataframe\">\n",
       "  <thead>\n",
       "    <tr style=\"text-align: right;\">\n",
       "      <th></th>\n",
       "      <th>text</th>\n",
       "      <th>label</th>\n",
       "    </tr>\n",
       "  </thead>\n",
       "  <tbody>\n",
       "    <tr>\n",
       "      <th>0</th>\n",
       "      <td>house dem aide even see comey letter jason cha...</td>\n",
       "      <td>1</td>\n",
       "    </tr>\n",
       "    <tr>\n",
       "      <th>1</th>\n",
       "      <td>ever get feeling life circle roundabout rather...</td>\n",
       "      <td>0</td>\n",
       "    </tr>\n",
       "    <tr>\n",
       "      <th>2</th>\n",
       "      <td>truth might get fired october 29 2016 tension ...</td>\n",
       "      <td>1</td>\n",
       "    </tr>\n",
       "    <tr>\n",
       "      <th>3</th>\n",
       "      <td>video 15 civilian killed single u airstrike id...</td>\n",
       "      <td>1</td>\n",
       "    </tr>\n",
       "    <tr>\n",
       "      <th>4</th>\n",
       "      <td>print iranian woman ha sentenced six year pris...</td>\n",
       "      <td>1</td>\n",
       "    </tr>\n",
       "    <tr>\n",
       "      <th>5</th>\n",
       "      <td>trying time jackie mason voice reason week exc...</td>\n",
       "      <td>0</td>\n",
       "    </tr>\n",
       "    <tr>\n",
       "      <th>6</th>\n",
       "      <td>ever wonder britain iconic pop pianist get lon...</td>\n",
       "      <td>1</td>\n",
       "    </tr>\n",
       "    <tr>\n",
       "      <th>7</th>\n",
       "      <td>paris france chose idealistic traditional cand...</td>\n",
       "      <td>0</td>\n",
       "    </tr>\n",
       "    <tr>\n",
       "      <th>8</th>\n",
       "      <td>donald j trump scheduled make highly anticipat...</td>\n",
       "      <td>0</td>\n",
       "    </tr>\n",
       "    <tr>\n",
       "      <th>9</th>\n",
       "      <td>week michael flynn resigned national security ...</td>\n",
       "      <td>0</td>\n",
       "    </tr>\n",
       "  </tbody>\n",
       "</table>\n",
       "</div>"
      ],
      "text/plain": [
       "                                                text  label\n",
       "0  house dem aide even see comey letter jason cha...      1\n",
       "1  ever get feeling life circle roundabout rather...      0\n",
       "2  truth might get fired october 29 2016 tension ...      1\n",
       "3  video 15 civilian killed single u airstrike id...      1\n",
       "4  print iranian woman ha sentenced six year pris...      1\n",
       "5  trying time jackie mason voice reason week exc...      0\n",
       "6  ever wonder britain iconic pop pianist get lon...      1\n",
       "7  paris france chose idealistic traditional cand...      0\n",
       "8  donald j trump scheduled make highly anticipat...      0\n",
       "9  week michael flynn resigned national security ...      0"
      ]
     },
     "execution_count": 14,
     "metadata": {},
     "output_type": "execute_result"
    }
   ],
   "source": [
    "df.head(10)"
   ]
  },
  {
   "cell_type": "markdown",
   "id": "6bbef75f",
   "metadata": {},
   "source": [
    "### 4. Feature Extraction \n"
   ]
  },
  {
   "cell_type": "code",
   "execution_count": 15,
   "id": "d2adfb61",
   "metadata": {},
   "outputs": [],
   "source": [
    "X = df['text']\n",
    "Y = df['label']\n",
    "\n",
    "#Split the data into training and test set\n",
    "x_train, x_test, y_train, y_test = train_test_split(X, Y, test_size=0.2)"
   ]
  },
  {
   "cell_type": "code",
   "execution_count": 16,
   "id": "ee23c3ad",
   "metadata": {},
   "outputs": [
    {
     "name": "stdout",
     "output_type": "stream",
     "text": [
      "the number of train data is 16640\n",
      "the number of text data is 4160\n"
     ]
    }
   ],
   "source": [
    "print('the number of train data is', x_train.shape[0])\n",
    "print('the number of text data is', x_test.shape[0])"
   ]
  },
  {
   "cell_type": "code",
   "execution_count": null,
   "id": "4d05292a",
   "metadata": {},
   "outputs": [],
   "source": [
    "# checking one of the texts\n",
    "df['text'][3]"
   ]
  },
  {
   "cell_type": "markdown",
   "id": "9507299f",
   "metadata": {},
   "source": [
    "### 5. Vectorization\n",
    "This is used to handle our text data, by converting it into vectors."
   ]
  },
  {
   "cell_type": "code",
   "execution_count": 17,
   "id": "0677a69b",
   "metadata": {},
   "outputs": [],
   "source": [
    "#Vectorization\n",
    "vectorization = TfidfVectorizer()\n",
    "\n",
    "xv_train = vectorization.fit_transform(x_train)\n",
    "\n",
    "xv_test = vectorization.transform(x_test)\n"
   ]
  },
  {
   "cell_type": "markdown",
   "id": "bbd8d71b",
   "metadata": {},
   "source": [
    "### 6. Model Fitting\n",
    "I will be fitting my data onto 7 classifications models\n",
    "\n",
    "1. Logistic Regression\n",
    "2. SVM\n",
    "3. Random Forest Classifier\n",
    "4. KNeighbors classifier\n",
    "5. Decision Tree classifier\n",
    "6. Ridge Classifier\n",
    "7. Gradient Boosting classifier\n",
    "\n",
    "The best one amongst the 7 will be used further"
   ]
  },
  {
   "cell_type": "code",
   "execution_count": 18,
   "id": "1edc1134",
   "metadata": {},
   "outputs": [],
   "source": [
    "# using different models\n",
    "\n",
    "# puting models in dictionary\n",
    "models ={'Ridge Classifier':RidgeClassifier(),\n",
    "        'svm_model': SVC(),\n",
    "        'Logistic Regression':LogisticRegression(),\n",
    "        'Gradient Boostingclassifier':GradientBoostingClassifier(),\n",
    "        'Random Forest classifier':RandomForestClassifier(),\n",
    "        'Decision Tree classifier':DecisionTreeClassifier(),\n",
    "        'KNeighbors classifier':KNeighborsClassifier(),}\n",
    "\n",
    "#creating a dictionary to keep model scores\n",
    "model_score = dict()\n",
    "\n",
    "# creating a function further code re-use\n",
    "def test_and_score(models, xv_train, xv_test, y_train, y_test):\n",
    "    \"\"\"\n",
    "    fiting and evaluating different machine learning models\n",
    "    models : dictionary of different models from sklearn machine learning model\n",
    "    xv_train = vectorized training data \n",
    "    xv_test = vectorized testing data \n",
    "    y_train = training labels\n",
    "    y_test = testing labels\n",
    "    \"\"\"\n",
    "    # setting up a random seed\n",
    "    np.random.seed(42)\n",
    "\n",
    "    #looping through the data\n",
    "\n",
    "    for name, model in models.items():\n",
    "        model.fit(xv_train, y_train)\n",
    "    # evaluating the model and appending the model into model_scores\n",
    "        model_score[name] = model.score(xv_test, y_test)\n",
    "    return model_score"
   ]
  },
  {
   "cell_type": "code",
   "execution_count": 19,
   "id": "a7e5f8ff",
   "metadata": {
    "scrolled": true
   },
   "outputs": [
    {
     "name": "stdout",
     "output_type": "stream",
     "text": [
      "Wall time: 38min 39s\n"
     ]
    },
    {
     "data": {
      "text/plain": [
       "{'Ridge Classifier': 0.9586538461538462,\n",
       " 'svm_model': 0.9588942307692307,\n",
       " 'Logistic Regression': 0.9485576923076923,\n",
       " 'Gradient Boostingclassifier': 0.928125,\n",
       " 'Random Forest classifier': 0.91875,\n",
       " 'Decision Tree classifier': 0.8882211538461539,\n",
       " 'KNeighbors classifier': 0.5692307692307692}"
      ]
     },
     "execution_count": 19,
     "metadata": {},
     "output_type": "execute_result"
    }
   ],
   "source": [
    "%%time\n",
    "# this takes about 10-25min to load\n",
    "\n",
    "score = test_and_score(models = models, xv_train = xv_train , xv_test = xv_test, y_train = y_train, y_test = y_test)\n",
    "score"
   ]
  },
  {
   "cell_type": "code",
   "execution_count": 20,
   "id": "ba13830d",
   "metadata": {},
   "outputs": [
    {
     "data": {
      "text/html": [
       "<div>\n",
       "<style scoped>\n",
       "    .dataframe tbody tr th:only-of-type {\n",
       "        vertical-align: middle;\n",
       "    }\n",
       "\n",
       "    .dataframe tbody tr th {\n",
       "        vertical-align: top;\n",
       "    }\n",
       "\n",
       "    .dataframe thead th {\n",
       "        text-align: right;\n",
       "    }\n",
       "</style>\n",
       "<table border=\"1\" class=\"dataframe\">\n",
       "  <thead>\n",
       "    <tr style=\"text-align: right;\">\n",
       "      <th></th>\n",
       "      <th>accuracy_score</th>\n",
       "    </tr>\n",
       "  </thead>\n",
       "  <tbody>\n",
       "    <tr>\n",
       "      <th>Ridge Classifier</th>\n",
       "      <td>0.958654</td>\n",
       "    </tr>\n",
       "    <tr>\n",
       "      <th>svm_model</th>\n",
       "      <td>0.958894</td>\n",
       "    </tr>\n",
       "    <tr>\n",
       "      <th>Logistic Regression</th>\n",
       "      <td>0.948558</td>\n",
       "    </tr>\n",
       "    <tr>\n",
       "      <th>Gradient Boostingclassifier</th>\n",
       "      <td>0.928125</td>\n",
       "    </tr>\n",
       "    <tr>\n",
       "      <th>Random Forest classifier</th>\n",
       "      <td>0.918750</td>\n",
       "    </tr>\n",
       "    <tr>\n",
       "      <th>Decision Tree classifier</th>\n",
       "      <td>0.888221</td>\n",
       "    </tr>\n",
       "    <tr>\n",
       "      <th>KNeighbors classifier</th>\n",
       "      <td>0.569231</td>\n",
       "    </tr>\n",
       "  </tbody>\n",
       "</table>\n",
       "</div>"
      ],
      "text/plain": [
       "                             accuracy_score\n",
       "Ridge Classifier                   0.958654\n",
       "svm_model                          0.958894\n",
       "Logistic Regression                0.948558\n",
       "Gradient Boostingclassifier        0.928125\n",
       "Random Forest classifier           0.918750\n",
       "Decision Tree classifier           0.888221\n",
       "KNeighbors classifier              0.569231"
      ]
     },
     "execution_count": 20,
     "metadata": {},
     "output_type": "execute_result"
    }
   ],
   "source": [
    "Score_df =pd.DataFrame(score, index=['accuracy_score'])\n",
    "Score_df.T"
   ]
  },
  {
   "cell_type": "code",
   "execution_count": 21,
   "id": "9a7222ec",
   "metadata": {
    "scrolled": true
   },
   "outputs": [
    {
     "data": {
      "text/plain": [
       "Text(0.5, 0, 'model performance')"
      ]
     },
     "execution_count": 21,
     "metadata": {},
     "output_type": "execute_result"
    },
    {
     "data": {
      "image/png": "[encoded data removed]",
      "text/plain": [
       "<Figure size 576x180 with 1 Axes>"
      ]
     },
     "metadata": {
      "needs_background": "light"
     },
     "output_type": "display_data"
    }
   ],
   "source": [
    "# visualizing the model_score result for easy grasp of the result\n",
    "plt.figure(figsize=(8,2.5))\n",
    "plt.xticks(rotation = 90)\n",
    "\n",
    "model_compr = pd.DataFrame(data = model_score, index=['accuracy_score'])\n",
    "\n",
    "sns.barplot(data=model_compr)\n",
    "plt.ylabel('accuracy_score')\n",
    "plt.xlabel('model performance')"
   ]
  },
  {
   "cell_type": "markdown",
   "id": "9504726f",
   "metadata": {},
   "source": [
    "### 7. Model Evaluation and comparison"
   ]
  },
  {
   "cell_type": "code",
   "execution_count": 22,
   "id": "76a67e56",
   "metadata": {},
   "outputs": [],
   "source": [
    "# model_score = dict()\n",
    "import itertools\n",
    "\n",
    "pred_dict = dict()\n",
    "\n",
    "# iterating through models dictionary to select the best three models\n",
    "model_to_use = dict(itertools.islice(models.items(), 3))\n",
    "\n",
    "# creating a function further code re-use\n",
    "def predict(model_to_use, xv_test):\n",
    "    \"\"\"\n",
    "    testing and evaluating 3 different machine learning models\n",
    "    pred_dict : dictionary of different models from sklearn machine learning model\n",
    "    xv_test = vectorized testing data \n",
    "    \"\"\"\n",
    "    #looping through the data\n",
    "    for name, model in model_to_use.items():\n",
    "        pred_dict[name] = model.predict(xv_test)\n",
    "    return pred_dict"
   ]
  },
  {
   "cell_type": "code",
   "execution_count": 23,
   "id": "04905d18",
   "metadata": {
    "scrolled": true
   },
   "outputs": [
    {
     "name": "stdout",
     "output_type": "stream",
     "text": [
      "Wall time: 3min 33s\n"
     ]
    }
   ],
   "source": [
    "%%time\n",
    "scor = predict(model_to_use=model_to_use, xv_test=xv_test)\n",
    "df_pred =pd.DataFrame({'Actual':y_test, 'predicted Ridge Classifier':scor['Ridge Classifier'],\n",
    "                  'predicted svm_model':scor['svm_model'],'predicted Logistic Regression':scor['Logistic Regression']})"
   ]
  },
  {
   "cell_type": "code",
   "execution_count": 24,
   "id": "2919c0b1",
   "metadata": {},
   "outputs": [
    {
     "data": {
      "text/html": [
       "<div>\n",
       "<style scoped>\n",
       "    .dataframe tbody tr th:only-of-type {\n",
       "        vertical-align: middle;\n",
       "    }\n",
       "\n",
       "    .dataframe tbody tr th {\n",
       "        vertical-align: top;\n",
       "    }\n",
       "\n",
       "    .dataframe thead th {\n",
       "        text-align: right;\n",
       "    }\n",
       "</style>\n",
       "<table border=\"1\" class=\"dataframe\">\n",
       "  <thead>\n",
       "    <tr style=\"text-align: right;\">\n",
       "      <th></th>\n",
       "      <th>Actual</th>\n",
       "      <th>predicted Ridge Classifier</th>\n",
       "      <th>predicted svm_model</th>\n",
       "      <th>predicted Logistic Regression</th>\n",
       "    </tr>\n",
       "  </thead>\n",
       "  <tbody>\n",
       "    <tr>\n",
       "      <th>4535</th>\n",
       "      <td>0</td>\n",
       "      <td>0</td>\n",
       "      <td>0</td>\n",
       "      <td>0</td>\n",
       "    </tr>\n",
       "    <tr>\n",
       "      <th>4346</th>\n",
       "      <td>1</td>\n",
       "      <td>1</td>\n",
       "      <td>1</td>\n",
       "      <td>1</td>\n",
       "    </tr>\n",
       "    <tr>\n",
       "      <th>5736</th>\n",
       "      <td>0</td>\n",
       "      <td>0</td>\n",
       "      <td>0</td>\n",
       "      <td>0</td>\n",
       "    </tr>\n",
       "    <tr>\n",
       "      <th>2863</th>\n",
       "      <td>0</td>\n",
       "      <td>0</td>\n",
       "      <td>0</td>\n",
       "      <td>0</td>\n",
       "    </tr>\n",
       "    <tr>\n",
       "      <th>7205</th>\n",
       "      <td>1</td>\n",
       "      <td>1</td>\n",
       "      <td>1</td>\n",
       "      <td>1</td>\n",
       "    </tr>\n",
       "    <tr>\n",
       "      <th>14301</th>\n",
       "      <td>0</td>\n",
       "      <td>0</td>\n",
       "      <td>0</td>\n",
       "      <td>0</td>\n",
       "    </tr>\n",
       "    <tr>\n",
       "      <th>18614</th>\n",
       "      <td>0</td>\n",
       "      <td>0</td>\n",
       "      <td>0</td>\n",
       "      <td>0</td>\n",
       "    </tr>\n",
       "    <tr>\n",
       "      <th>14790</th>\n",
       "      <td>1</td>\n",
       "      <td>1</td>\n",
       "      <td>1</td>\n",
       "      <td>1</td>\n",
       "    </tr>\n",
       "    <tr>\n",
       "      <th>3213</th>\n",
       "      <td>0</td>\n",
       "      <td>0</td>\n",
       "      <td>0</td>\n",
       "      <td>0</td>\n",
       "    </tr>\n",
       "    <tr>\n",
       "      <th>5812</th>\n",
       "      <td>0</td>\n",
       "      <td>0</td>\n",
       "      <td>0</td>\n",
       "      <td>0</td>\n",
       "    </tr>\n",
       "    <tr>\n",
       "      <th>8242</th>\n",
       "      <td>0</td>\n",
       "      <td>0</td>\n",
       "      <td>0</td>\n",
       "      <td>0</td>\n",
       "    </tr>\n",
       "    <tr>\n",
       "      <th>3959</th>\n",
       "      <td>0</td>\n",
       "      <td>0</td>\n",
       "      <td>0</td>\n",
       "      <td>0</td>\n",
       "    </tr>\n",
       "    <tr>\n",
       "      <th>15460</th>\n",
       "      <td>1</td>\n",
       "      <td>1</td>\n",
       "      <td>1</td>\n",
       "      <td>1</td>\n",
       "    </tr>\n",
       "    <tr>\n",
       "      <th>11540</th>\n",
       "      <td>0</td>\n",
       "      <td>0</td>\n",
       "      <td>0</td>\n",
       "      <td>0</td>\n",
       "    </tr>\n",
       "    <tr>\n",
       "      <th>20077</th>\n",
       "      <td>1</td>\n",
       "      <td>1</td>\n",
       "      <td>1</td>\n",
       "      <td>1</td>\n",
       "    </tr>\n",
       "    <tr>\n",
       "      <th>277</th>\n",
       "      <td>1</td>\n",
       "      <td>1</td>\n",
       "      <td>1</td>\n",
       "      <td>1</td>\n",
       "    </tr>\n",
       "    <tr>\n",
       "      <th>16455</th>\n",
       "      <td>0</td>\n",
       "      <td>0</td>\n",
       "      <td>0</td>\n",
       "      <td>0</td>\n",
       "    </tr>\n",
       "    <tr>\n",
       "      <th>1958</th>\n",
       "      <td>1</td>\n",
       "      <td>1</td>\n",
       "      <td>1</td>\n",
       "      <td>1</td>\n",
       "    </tr>\n",
       "    <tr>\n",
       "      <th>13370</th>\n",
       "      <td>1</td>\n",
       "      <td>1</td>\n",
       "      <td>1</td>\n",
       "      <td>1</td>\n",
       "    </tr>\n",
       "    <tr>\n",
       "      <th>11367</th>\n",
       "      <td>1</td>\n",
       "      <td>1</td>\n",
       "      <td>1</td>\n",
       "      <td>1</td>\n",
       "    </tr>\n",
       "  </tbody>\n",
       "</table>\n",
       "</div>"
      ],
      "text/plain": [
       "       Actual  predicted Ridge Classifier  predicted svm_model  \\\n",
       "4535        0                           0                    0   \n",
       "4346        1                           1                    1   \n",
       "5736        0                           0                    0   \n",
       "2863        0                           0                    0   \n",
       "7205        1                           1                    1   \n",
       "14301       0                           0                    0   \n",
       "18614       0                           0                    0   \n",
       "14790       1                           1                    1   \n",
       "3213        0                           0                    0   \n",
       "5812        0                           0                    0   \n",
       "8242        0                           0                    0   \n",
       "3959        0                           0                    0   \n",
       "15460       1                           1                    1   \n",
       "11540       0                           0                    0   \n",
       "20077       1                           1                    1   \n",
       "277         1                           1                    1   \n",
       "16455       0                           0                    0   \n",
       "1958        1                           1                    1   \n",
       "13370       1                           1                    1   \n",
       "11367       1                           1                    1   \n",
       "\n",
       "       predicted Logistic Regression  \n",
       "4535                               0  \n",
       "4346                               1  \n",
       "5736                               0  \n",
       "2863                               0  \n",
       "7205                               1  \n",
       "14301                              0  \n",
       "18614                              0  \n",
       "14790                              1  \n",
       "3213                               0  \n",
       "5812                               0  \n",
       "8242                               0  \n",
       "3959                               0  \n",
       "15460                              1  \n",
       "11540                              0  \n",
       "20077                              1  \n",
       "277                                1  \n",
       "16455                              0  \n",
       "1958                               1  \n",
       "13370                              1  \n",
       "11367                              1  "
      ]
     },
     "execution_count": 24,
     "metadata": {},
     "output_type": "execute_result"
    }
   ],
   "source": [
    "df_pred.head(20) # showing the first 20 predicted values of the models for comparison"
   ]
  },
  {
   "cell_type": "code",
   "execution_count": 25,
   "id": "e60b067b",
   "metadata": {
    "scrolled": true
   },
   "outputs": [],
   "source": [
    "# creating a function further code re-use\n",
    "\n",
    "def evaluation_report(y_test, pred_dict):\n",
    "    #looping through the data\n",
    "    \n",
    "    for name, predict in pred_dict.items():\n",
    "        \n",
    "        matrix = confusion_matrix(y_test, predict)\n",
    "        \n",
    "        print('the accuracy_score for',name,'is',accuracy_score(y_test, predict),'\\n')\n",
    "        print('the classification_report for',name,'\\n',classification_report(y_test, predict),'\\n')\n",
    "        display = ConfusionMatrixDisplay(confusion_matrix = matrix, display_labels=['Fake','True']).plot() \n",
    "        \n",
    "        print('Report',name,'\\n',display)\n",
    "        \n",
    "        plt.show()\n",
    "        \n",
    "    return plt.show()"
   ]
  },
  {
   "cell_type": "code",
   "execution_count": 26,
   "id": "af30d529",
   "metadata": {},
   "outputs": [
    {
     "name": "stdout",
     "output_type": "stream",
     "text": [
      "the accuracy_score for Ridge Classifier is 0.9586538461538462 \n",
      "\n",
      "the classification_report for Ridge Classifier \n",
      "               precision    recall  f1-score   support\n",
      "\n",
      "           0       0.97      0.95      0.96      2073\n",
      "           1       0.95      0.97      0.96      2087\n",
      "\n",
      "    accuracy                           0.96      4160\n",
      "   macro avg       0.96      0.96      0.96      4160\n",
      "weighted avg       0.96      0.96      0.96      4160\n",
      " \n",
      "\n",
      "Report Ridge Classifier \n",
      " <sklearn.metrics._plot.confusion_matrix.ConfusionMatrixDisplay object at 0x000002158040DF40>\n"
     ]
    },
    {
     "data": {
      "image/png": "[encoded data removed]",
      "text/plain": [
       "<Figure size 432x288 with 2 Axes>"
      ]
     },
     "metadata": {
      "needs_background": "light"
     },
     "output_type": "display_data"
    },
    {
     "name": "stdout",
     "output_type": "stream",
     "text": [
      "the accuracy_score for svm_model is 0.9588942307692307 \n",
      "\n",
      "the classification_report for svm_model \n",
      "               precision    recall  f1-score   support\n",
      "\n",
      "           0       0.96      0.96      0.96      2073\n",
      "           1       0.96      0.96      0.96      2087\n",
      "\n",
      "    accuracy                           0.96      4160\n",
      "   macro avg       0.96      0.96      0.96      4160\n",
      "weighted avg       0.96      0.96      0.96      4160\n",
      " \n",
      "\n",
      "Report svm_model \n",
      " <sklearn.metrics._plot.confusion_matrix.ConfusionMatrixDisplay object at 0x00000215801F97C0>\n"
     ]
    },
    {
     "data": {
      "image/png": "[encoded data removed]",
      "text/plain": [
       "<Figure size 432x288 with 2 Axes>"
      ]
     },
     "metadata": {
      "needs_background": "light"
     },
     "output_type": "display_data"
    },
    {
     "name": "stdout",
     "output_type": "stream",
     "text": [
      "the accuracy_score for Logistic Regression is 0.9485576923076923 \n",
      "\n",
      "the classification_report for Logistic Regression \n",
      "               precision    recall  f1-score   support\n",
      "\n",
      "           0       0.95      0.94      0.95      2073\n",
      "           1       0.94      0.95      0.95      2087\n",
      "\n",
      "    accuracy                           0.95      4160\n",
      "   macro avg       0.95      0.95      0.95      4160\n",
      "weighted avg       0.95      0.95      0.95      4160\n",
      " \n",
      "\n",
      "Report Logistic Regression \n",
      " <sklearn.metrics._plot.confusion_matrix.ConfusionMatrixDisplay object at 0x00000215802D0520>\n"
     ]
    },
    {
     "data": {
      "image/png": "[encoded data removed]",
      "text/plain": [
       "<Figure size 432x288 with 2 Axes>"
      ]
     },
     "metadata": {
      "needs_background": "light"
     },
     "output_type": "display_data"
    }
   ],
   "source": [
    "evaluation_report(y_test, pred_dict)"
   ]
  },
  {
   "cell_type": "markdown",
   "id": "896da368",
   "metadata": {},
   "source": [
    "### hyperparameter tunning"
   ]
  },
  {
   "cell_type": "code",
   "execution_count": null,
   "id": "1ca8aa54",
   "metadata": {},
   "outputs": [],
   "source": [
    "# defining parameter range \n",
    "\n",
    "param_grid = {'C':[0.01,0.1,1,10],\n",
    "              'kernel' : ['linear','rbf'],\n",
    "              'gamma':['scale', 'auto'],\n",
    "              'gamma' : [0.01,1]}\n",
    "\n",
    "svm_cv  = GridSearchCV(SVC() , param_grid , cv = 5 , n_jobs=1)\n",
    "\n",
    "# fitting the model for grid search \n",
    "svm_cv.fit(xv_train,y_train)\n",
    "\n",
    "# print best parameter after tuning \n",
    "print(\"best parameters: \",svm_cv.best_params_)\n",
    "\n",
    "# print best train score after tuning \n",
    "print(\"Train SCore: \", svm_cv.best_score_ )\n",
    "\n",
    "# print best train score after tuning \n",
    "print(\"Test Score: \", svm_cv.score(xv_test, y_test))"
   ]
  },
  {
   "cell_type": "code",
   "execution_count": null,
   "id": "6b37d2cc",
   "metadata": {},
   "outputs": [],
   "source": [
    "# svm_cv_predictions = svm_cv.predict(xv_test)\n",
    "\n",
    "# # print classification report \n",
    "# print(classification_report(y_test, svm_cv_predictions))\n",
    "\n",
    "# # visualising our report for better grasp\n",
    "# # \n",
    "# display = ConfusionMatrixDisplay(confusion_matrix = confusion_matrix(y_test, svm_cv_predictions) , \n",
    "#                                  display_labels=['Fake','True']).plot() \n",
    "# print('Confusion Matrix Report \\n', display)\n",
    "# plt.show()"
   ]
  },
  {
   "cell_type": "markdown",
   "id": "76554263",
   "metadata": {},
   "source": [
    "### 8.  Manual Model Testing\n"
   ]
  },
  {
   "cell_type": "code",
   "execution_count": 43,
   "id": "cb190baa",
   "metadata": {},
   "outputs": [],
   "source": [
    "# Because SVM provides the best results, it will be used evaluate the news liability.\n",
    "\n",
    "def out_put(word):\n",
    "    if word ==1:\n",
    "        return \"Fake News\"\n",
    "    else:\n",
    "        return \"True News\" \n",
    "\n",
    "    \n",
    "def manual_testing(news):    \n",
    "    # create a dictionary to hold the text\n",
    "    testing_news = {\"text\":[news]}            \n",
    "    \n",
    "    # creates a table or dataframe\n",
    "    new_def_test = pd.DataFrame(testing_news)    \n",
    "    \n",
    "    # applied text cleaning and processing on the new dataset\n",
    "    new_def_test[\"text\"] = new_def_test[\"text\"].apply(clean_text) \n",
    "    \n",
    "    # slicing the column text from the dataframe or table created the assign it to a new variable\n",
    "    new_x_test = new_def_test[\"text\"] \n",
    "    \n",
    "    # modeling the new text for possible prediction\n",
    "    New_xv_test = vectorization.transform(new_x_test)\n",
    "    Ridge_model_prediction = models['Ridge Classifier'].predict(New_xv_test)\n",
    "    svm_model_prediction = models['svm_model'].predict(New_xv_test)\n",
    "    RL_model_prediction = models['Logistic Regression'].predict(New_xv_test)\n",
    "\n",
    "    return print('\\n Ridge_model_prediction: {} \\n svm_model_prediction: {} \\n RL_model_prediction: {}'\n",
    "                 .format(out_put(Ridge_model_prediction),out_put(svm_model_prediction),out_put(RL_model_prediction)))"
   ]
  },
  {
   "cell_type": "code",
   "execution_count": 44,
   "id": "9f7c1b0d",
   "metadata": {},
   "outputs": [
    {
     "name": "stdout",
     "output_type": "stream",
     "text": [
      "Paste text here: \n",
      "Angels are everywhere in the MuÃ±iz familyâ€™s apartment in the Bronx: paintings of angels on the wall, ceramic angels flanking the ancient VCR, angels strumming lyres or blowing little golden trumpets on the bathroom shelves. As JosÃ© and Zoraida MuÃ±iz and their children have struggled to deal with a   series of trials and setbacks, including cancer, debilitating epilepsy, deep depression and near eviction, it has sometimes seemed as if angels and love were the only forces holding things together. Zoraidaâ€™s early life in Puerto Rico was like something from a tropical Dickens novel. She and her siblings and mother built a house by hand after a hurricane ravaged their home and the childrenâ€™s father withdrew support. Then Zoraidaâ€™s grandfather  â€”   the father of her absent father  â€”   destroyed the house in a rage. She was barely a teenager when she met JosÃ©, a Vietnam War veteran. With permission from her uncle, a judge, they were married. She was 14. He was 29. They moved to New York in 1983 and started a new life. He built boilers. She worked in construction, using skills she learned as a child, and in a clothing store. But in 1987, Mr. MuÃ±iz began having violent seizures  â€”   eight or 10 a day. They did not respond to medication. He could no longer work. She stopped working to take care of him. Still determined to live something like a normal life, they started a family. Their first child, JosÃ© Jr. had a heart defect. By the time he was 2 he had had six   operations. Thatâ€™s where the angels came in  â€”   the first one was a painting, a gift from a cousin.  â€œWhen they operated on my son, they told me he was an angel, because he was supposed to die,â€ Ms. MuÃ±iz, 50, said. â€œFrom there I figured that angels are taking care of me and protecting me and my family. â€ All the angels are gifts from friends and relatives, or picked up off the street, just like all the furniture in the MuÃ±izesâ€™ overstuffed apartment in a   complex on Westchester Avenue in the Bronx, much of it restored by Ms. MuÃ±iz. â€œSo many people throw away things, so I donâ€™t have to buy,â€ she said. A second son, Jesus, became epileptic at 3. A girl, Maria, completed the family. In 2007, Mr. MuÃ±iz had what felt like a horrible, stubborn toothache. It turned out to be cancer of the lower jaw. Ms. MuÃ±iz stayed in the room with her husband while he received radiation treatment. â€œIâ€™m willing to take anything with him,â€ she said. â€œI never left him alone, and I never will. â€ Radiation did not work. To save Mr. MuÃ±izâ€™s life, surgeons removed his tongue and his lower jaw and cut a hole through his esophagus. Disfigured, depressed and unable to speak, he can consume nothing thicker than milk and needs   care. This is the household where the MuÃ±iz children grew up. â€œWeâ€™ve been through every craziness,â€ said JosÃ© Jr. 24, who has suffered depression so severe that he dropped out of college and confined himself to the apartment, â€œevery up and down. â€ For years at a time, the family held on, seemingly by a thread. Over the summer, the younger son, Jesus, 22, got a   job at a Zaroâ€™s Bakery in Manhattanâ€™s financial district. Because the familyâ€™s rent is tied to income, the rent tripled in August, to about $770 a month from $245. But Jesus had school bills to pay, and the family paid some of the funeral expenses for JosÃ© Sr. â€™s mother, who died over the summer, and things began to unravel. They fell behind on the rent and utilities. Food was often scarce. The family regularly skipped meals. It was around this time that Ms. MuÃ±iz got in touch with Catholic Charities Archdiocese of New York, one of the eight organizations supported by The New York Timesâ€™s Neediest Cases Fund. It covered their back rent, got them warm coats and blankets and helped them apply for food stamps for the first time. And with $600 from the Neediest Cases Fund, the family paid its electric bill. Things are looking up in some ways. Jesus is returning to college, where he is on a   track and wants to be a paramedic. Maria graduated in December from a   nursing program. Thinking of her father and his illness, she wants to be an oncologist. JosÃ© Jr. was just accepted to the New York Film Academyâ€™s photography program. But JosÃ© Sr. continues to battle cancer. Zoraida is severely depressed. What keeps her going? she was asked. She gestured toward her family, sitting beside her beneath the painted angels. â€œThey give me my strength, even if I have times I collapse,â€ she said. JosÃ© Jr. agreed. â€œI use my parents and siblings as my motivation,â€ he said. â€œWeâ€™re all there for each other,â€ Ms. MuÃ±iz said.\n",
      "\n",
      " Ridge_model_prediction: Fake News \n",
      " svm_model_prediction: Fake News \n",
      " RL_model_prediction: Fake News\n"
     ]
    }
   ],
   "source": [
    "news = str(input('Paste text here: \\n')\n",
    "manual_testing(news)"
   ]
  },
  {
   "cell_type": "code",
   "execution_count": 28,
   "id": "8c1be051",
   "metadata": {},
   "outputs": [],
   "source": [
    "import pickle\n",
    "\n",
    "with open(r'C:\\Joshua_file\\Fake_News_SVC.pickle', 'wb') as f:\n",
    "    pickle.dump(SVC_model_jo, f)"
   ]
  },
  {
   "cell_type": "code",
   "execution_count": 29,
   "id": "87df8242",
   "metadata": {},
   "outputs": [],
   "source": [
    "mod = SVC()\n",
    "SVC_model_jo = mod.fit(xv_train, y_train)"
   ]
  },
  {
   "cell_type": "code",
   "execution_count": 30,
   "id": "ca8392a5",
   "metadata": {},
   "outputs": [],
   "source": [
    "filename = 'Fake_News_SVC'\n",
    "pickle.dump(SVC_model_jo, open(filename,'wb'))"
   ]
  },
  {
   "cell_type": "code",
   "execution_count": null,
   "id": "61dfecd7",
   "metadata": {},
   "outputs": [],
   "source": [
    "# to save file\n",
    "with open('SVM_model', 'wb') as f:\n",
    "    pickle.dump(model, f)"
   ]
  },
  {
   "cell_type": "code",
   "execution_count": 32,
   "id": "75db9a9f",
   "metadata": {},
   "outputs": [],
   "source": [
    "#load file\n",
    "\n",
    "with open('Fake_News_detection_model','rb') as f:\n",
    "    mp = pickle.load(f)"
   ]
  },
  {
   "cell_type": "code",
   "execution_count": null,
   "id": "52535764",
   "metadata": {},
   "outputs": [],
   "source": [
    "# alternative using joblib\n",
    "\n",
    "from sklearn.externals import joblib\n",
    "joblib.dump(SVC_model_jo, 'Svm_model_file')\n"
   ]
  },
  {
   "cell_type": "code",
   "execution_count": null,
   "id": "60c87d3b",
   "metadata": {},
   "outputs": [],
   "source": [
    "# loading the file\n",
    "joblib.load('Svm_model_file')"
   ]
  },
  {
   "cell_type": "code",
   "execution_count": 33,
   "id": "21d296da",
   "metadata": {},
   "outputs": [
    {
     "data": {
      "text/plain": [
       "array([0, 1, 0, ..., 0, 1, 0], dtype=int64)"
      ]
     },
     "execution_count": 33,
     "metadata": {},
     "output_type": "execute_result"
    }
   ],
   "source": [
    "mp.predict(xv_test)"
   ]
  },
  {
   "cell_type": "code",
   "execution_count": 39,
   "id": "c1c2195e",
   "metadata": {},
   "outputs": [],
   "source": [
    "def out_put(word):\n",
    "    if word ==1:\n",
    "        return \"Fake News\"\n",
    "    else:\n",
    "        return \"True News\" \n",
    "\n",
    "def manual_testing(news):    \n",
    "    # create a dictionary to hold the text\n",
    "    testing_news = {\"text\":[news]}            \n",
    "    \n",
    "    # creates a table or dataframe\n",
    "    new_def_test = pd.DataFrame(testing_news)    \n",
    "    \n",
    "    # applied text cleaning and processing on the new dataset\n",
    "    new_def_test[\"text\"] = new_def_test[\"text\"].apply(clean_text) \n",
    "    \n",
    "    # slicing the column text from the dataframe or table created the assign it to a new variable\n",
    "    new_x_test = new_def_test[\"text\"] \n",
    "    \n",
    "    # modeling the new text for possible prediction\n",
    "    New_xv_test = vectorization.transform(new_x_test)\n",
    "    svm_model_prediction = mp.predict(New_xv_test)\n",
    "    return print('\\n svm_model_prediction: {} '.format(out_put(svm_model_prediction)))"
   ]
  },
  {
   "cell_type": "code",
   "execution_count": 42,
   "id": "e08e3e92",
   "metadata": {},
   "outputs": [
    {
     "name": "stdout",
     "output_type": "stream",
     "text": [
      "Paste text here: \n",
      "Angels are everywhere in the MuÃ±iz familyâ€™s apartment in the Bronx: paintings of angels on the wall, ceramic angels flanking the ancient VCR, angels strumming lyres or blowing little golden trumpets on the bathroom shelves. As JosÃ© and Zoraida MuÃ±iz and their children have struggled to deal with a   series of trials and setbacks, including cancer, debilitating epilepsy, deep depression and near eviction, it has sometimes seemed as if angels and love were the only forces holding things together. Zoraidaâ€™s early life in Puerto Rico was like something from a tropical Dickens novel. She and her siblings and mother built a house by hand after a hurricane ravaged their home and the childrenâ€™s father withdrew support. Then Zoraidaâ€™s grandfather  â€”   the father of her absent father  â€”   destroyed the house in a rage. She was barely a teenager when she met JosÃ©, a Vietnam War veteran. With permission from her uncle, a judge, they were married. She was 14. He was 29. They moved to New York in 1983 and started a new life. He built boilers. She worked in construction, using skills she learned as a child, and in a clothing store. But in 1987, Mr. MuÃ±iz began having violent seizures  â€”   eight or 10 a day. They did not respond to medication. He could no longer work. She stopped working to take care of him. Still determined to live something like a normal life, they started a family. Their first child, JosÃ© Jr. had a heart defect. By the time he was 2 he had had six   operations. Thatâ€™s where the angels came in  â€”   the first one was a painting, a gift from a cousin.  â€œWhen they operated on my son, they told me he was an angel, because he was supposed to die,â€ Ms. MuÃ±iz, 50, said. â€œFrom there I figured that angels are taking care of me and protecting me and my family. â€ All the angels are gifts from friends and relatives, or picked up off the street, just like all the furniture in the MuÃ±izesâ€™ overstuffed apartment in a   complex on Westchester Avenue in the Bronx, much of it restored by Ms. MuÃ±iz. â€œSo many people throw away things, so I donâ€™t have to buy,â€ she said. A second son, Jesus, became epileptic at 3. A girl, Maria, completed the family. In 2007, Mr. MuÃ±iz had what felt like a horrible, stubborn toothache. It turned out to be cancer of the lower jaw. Ms. MuÃ±iz stayed in the room with her husband while he received radiation treatment. â€œIâ€™m willing to take anything with him,â€ she said. â€œI never left him alone, and I never will. â€ Radiation did not work. To save Mr. MuÃ±izâ€™s life, surgeons removed his tongue and his lower jaw and cut a hole through his esophagus. Disfigured, depressed and unable to speak, he can consume nothing thicker than milk and needs   care. This is the household where the MuÃ±iz children grew up. â€œWeâ€™ve been through every craziness,â€ said JosÃ© Jr. 24, who has suffered depression so severe that he dropped out of college and confined himself to the apartment, â€œevery up and down. â€ For years at a time, the family held on, seemingly by a thread. Over the summer, the younger son, Jesus, 22, got a   job at a Zaroâ€™s Bakery in Manhattanâ€™s financial district. Because the familyâ€™s rent is tied to income, the rent tripled in August, to about $770 a month from $245. But Jesus had school bills to pay, and the family paid some of the funeral expenses for JosÃ© Sr. â€™s mother, who died over the summer, and things began to unravel. They fell behind on the rent and utilities. Food was often scarce. The family regularly skipped meals. It was around this time that Ms. MuÃ±iz got in touch with Catholic Charities Archdiocese of New York, one of the eight organizations supported by The New York Timesâ€™s Neediest Cases Fund. It covered their back rent, got them warm coats and blankets and helped them apply for food stamps for the first time. And with $600 from the Neediest Cases Fund, the family paid its electric bill. Things are looking up in some ways. Jesus is returning to college, where he is on a   track and wants to be a paramedic. Maria graduated in December from a   nursing program. Thinking of her father and his illness, she wants to be an oncologist. JosÃ© Jr. was just accepted to the New York Film Academyâ€™s photography program. But JosÃ© Sr. continues to battle cancer. Zoraida is severely depressed. What keeps her going? she was asked. She gestured toward her family, sitting beside her beneath the painted angels. â€œThey give me my strength, even if I have times I collapse,â€ she said. JosÃ© Jr. agreed. â€œI use my parents and siblings as my motivation,â€ he said. â€œWeâ€™re all there for each other,â€ Ms. MuÃ±iz said.\n",
      "\n",
      " svm_model_prediction: True News \n"
     ]
    }
   ],
   "source": [
    "news = str(input('Paste text here: \\n')) \n",
    "\n",
    "manual_testing(news)"
   ]
  },
  {
   "cell_type": "code",
   "execution_count": 47,
   "id": "310fea89",
   "metadata": {},
   "outputs": [],
   "source": []
  },
  {
   "cell_type": "code",
   "execution_count": null,
   "id": "29f0a3ed",
   "metadata": {},
   "outputs": [],
   "source": [
    "/-"
   ]
  }
 ],
 "metadata": {
  "kernelspec": {
   "display_name": "Python 3 (ipykernel)",
   "language": "python",
   "name": "python3"
  },
  "language_info": {
   "codemirror_mode": {
    "name": "ipython",
    "version": 3
   },
   "file_extension": ".py",
   "mimetype": "text/x-python",
   "name": "python",
   "nbconvert_exporter": "python",
   "pygments_lexer": "ipython3",
   "version": "3.9.7"
  }
 },
 "nbformat": 4,
 "nbformat_minor": 5
}
